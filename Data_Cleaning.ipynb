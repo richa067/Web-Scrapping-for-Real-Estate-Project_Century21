{
 "cells": [
  {
   "cell_type": "markdown",
   "metadata": {},
   "source": [
    "## Data Cleaning \n"
   ]
  },
  {
   "cell_type": "code",
   "execution_count": null,
   "metadata": {},
   "outputs": [],
   "source": [
    "## Import Libraries required for the cleaning, preprocessing and Data Visualization\n",
    "import matplotlib.pyplot as plt\n",
    "import numpy as np\n",
    "import pandas as pd\n",
    "import seaborn as sns"
   ]
  },
  {
   "cell_type": "code",
   "execution_count": null,
   "metadata": {},
   "outputs": [],
   "source": [
    "## Reading the csv data file of the whole data using read_csv method from pandas\n",
    "import pandas as pd\n",
    "df = pd.read_csv('Final_Excel.csv',index_col=[0])\n",
    "Century_df=df\n",
    "Century_df.head(5)"
   ]
  },
  {
   "cell_type": "code",
   "execution_count": null,
   "metadata": {},
   "outputs": [],
   "source": [
    "Century_df.info()"
   ]
  },
  {
   "cell_type": "code",
   "execution_count": null,
   "metadata": {},
   "outputs": [],
   "source": [
    "#Removing the rows with NaN values\n",
    "Century_df.dropna(subset = [\"Address\",\"City\",\"Bed\",\"Bath\",\"Sqft\"], inplace=True)\n",
    "\n",
    "#removing column Half Bath\n",
    "#Century_df.dropna('Half Bath', inplace=True, axis=1)"
   ]
  },
  {
   "cell_type": "code",
   "execution_count": null,
   "metadata": {},
   "outputs": [],
   "source": [
    "Century_df.head(5)"
   ]
  },
  {
   "cell_type": "code",
   "execution_count": null,
   "metadata": {},
   "outputs": [],
   "source": [
    "#Pre-processing of data\n",
    "\n",
    "Century_df['Price'] = Century_df['Price'].map(lambda x: x.lstrip('$')).str.replace(\",\",\"\").astype(float)\n",
    "Century_df['Bed']= Century_df.Bed.str.extract('(\\d+)').astype(float)\n",
    "Century_df['Bath']= Century_df.Bath.str.extract('(\\d+)').astype(float)\n",
    "Century_df['Sqft'] = Century_df['Sqft'].map(lambda x: x.rstrip('sq.ft')).str.replace(\",\",\"\").astype(float)\n",
    "Century_df['City'] = Century_df['City'].astype(str).str.replace(\"CA\",\" \")\n",
    "Century_df['City'] = Century_df['City'].map(lambda x: x.split()).str[0]\n"
   ]
  },
  {
   "cell_type": "code",
   "execution_count": null,
   "metadata": {},
   "outputs": [],
   "source": [
    "print(Century_df)"
   ]
  },
  {
   "cell_type": "code",
   "execution_count": null,
   "metadata": {},
   "outputs": [],
   "source": [
    "#Checking missing values \n",
    "Century_df.isnull().sum()"
   ]
  },
  {
   "cell_type": "code",
   "execution_count": null,
   "metadata": {},
   "outputs": [],
   "source": [
    "Century_df.info()"
   ]
  },
  {
   "cell_type": "code",
   "execution_count": null,
   "metadata": {},
   "outputs": [],
   "source": [
    "#Checking duplicate rows \n",
    "dup_row = Century_df[Century_df.duplicated()]\n",
    "print(dup_row)"
   ]
  },
  {
   "cell_type": "code",
   "execution_count": null,
   "metadata": {},
   "outputs": [],
   "source": [
    "#Checking for Outliers\n",
    "\n",
    "fig=plt.figure(figsize=(14,12))\n",
    "plt.subplot(231)\n",
    "plt.title('Box Plot : Price')\n",
    "sns.boxplot(data=Century_df[['Price']]);\n",
    "\n",
    "plt.subplot(232)\n",
    "plt.title('Box Plot : Bed')\n",
    "sns.boxplot(data=Century_df[['Bed']]);\n",
    "\n",
    "plt.subplot(233)\n",
    "plt.title('Box Plot : Bath')\n",
    "sns.boxplot(data=Century_df[['Bath']]);\n",
    "\n",
    "plt.subplot(236)\n",
    "plt.title('Box Plot : Sqft')\n",
    "sns.boxplot(data=Century_df[['Sqft']]);"
   ]
  },
  {
   "cell_type": "code",
   "execution_count": null,
   "metadata": {},
   "outputs": [],
   "source": [
    "#Discover outliers - Z-score function defined in scipy lib to findthe outliers.\n",
    "from scipy import stats\n",
    "import numpy as np\n",
    "result=Century_df[['Price','Bed','Bath','Sqft']]\n",
    "z = np.abs(stats.zscore(result))\n",
    "print(z)"
   ]
  },
  {
   "cell_type": "code",
   "execution_count": null,
   "metadata": {},
   "outputs": [],
   "source": [
    "#Identify an outlier.\n",
    "out = 3\n",
    "print(np.where(z > 3))"
   ]
  },
  {
   "cell_type": "code",
   "execution_count": null,
   "metadata": {},
   "outputs": [],
   "source": [
    "Century_df.shape"
   ]
  },
  {
   "cell_type": "code",
   "execution_count": null,
   "metadata": {},
   "outputs": [],
   "source": [
    "#Checking an outlier\n",
    "print(z[40][0])"
   ]
  },
  {
   "cell_type": "code",
   "execution_count": null,
   "metadata": {},
   "outputs": [],
   "source": [
    "#removing the outliers\n",
    "Century_df = Century_df[(z < 3).all(axis=1)]"
   ]
  },
  {
   "cell_type": "code",
   "execution_count": null,
   "metadata": {},
   "outputs": [],
   "source": [
    "Century_out1 = Century_df"
   ]
  },
  {
   "cell_type": "code",
   "execution_count": null,
   "metadata": {},
   "outputs": [],
   "source": [
    "Q1 = Century_out1.quantile(0.25)\n",
    "Q3 = Century_out1.quantile(0.75)\n",
    "IQR = Q3 - Q1\n",
    "print(IQR)"
   ]
  },
  {
   "cell_type": "code",
   "execution_count": null,
   "metadata": {},
   "outputs": [],
   "source": [
    "# removing the outliers\n",
    "\n",
    "Century_data = Century_out1[~((Century_out1 < (Q1 - 1.5 * IQR)) \n",
    "             |(Century_out1 > (Q3 + 1.5 * IQR))).any(axis =1)]"
   ]
  },
  {
   "cell_type": "code",
   "execution_count": null,
   "metadata": {},
   "outputs": [],
   "source": [
    "#Checking if the outliers have been removed\n",
    "Century_data.shape"
   ]
  },
  {
   "cell_type": "markdown",
   "metadata": {},
   "source": [
    "Removed 15 outliers"
   ]
  },
  {
   "cell_type": "code",
   "execution_count": null,
   "metadata": {},
   "outputs": [],
   "source": [
    "print(Century_data)"
   ]
  },
  {
   "cell_type": "code",
   "execution_count": null,
   "metadata": {},
   "outputs": [],
   "source": [
    "## dtype and column dtypes, non-null values and memory usage\n",
    "Century_data.info()"
   ]
  },
  {
   "cell_type": "code",
   "execution_count": null,
   "metadata": {},
   "outputs": [],
   "source": [
    "# Exporting the cleaned data to csv\n",
    "Century_df.to_csv(\"Century_preprocessed.csv\")"
   ]
  },
  {
   "cell_type": "code",
   "execution_count": null,
   "metadata": {},
   "outputs": [],
   "source": []
  }
 ],
 "metadata": {
  "kernelspec": {
   "display_name": "Python 3",
   "language": "python",
   "name": "python3"
  },
  "language_info": {
   "codemirror_mode": {
    "name": "ipython",
    "version": 3
   },
   "file_extension": ".py",
   "mimetype": "text/x-python",
   "name": "python",
   "nbconvert_exporter": "python",
   "pygments_lexer": "ipython3",
   "version": "3.8.3"
  }
 },
 "nbformat": 4,
 "nbformat_minor": 4
}
